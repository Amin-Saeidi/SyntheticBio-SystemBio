{
 "cells": [
  {
   "cell_type": "markdown",
   "id": "864e8f29",
   "metadata": {},
   "source": [
    "# Amin Saeidi - 400211579"
   ]
  },
  {
   "cell_type": "markdown",
   "id": "82a71f2d",
   "metadata": {},
   "source": [
    "# Question1"
   ]
  },
  {
   "cell_type": "code",
   "execution_count": 1,
   "id": "8cd1684c",
   "metadata": {
    "scrolled": true
   },
   "outputs": [],
   "source": [
    "# First import essential packagess\n",
    "using COBREXA\n",
    "using GLPK # to As Optimizer\n",
    "using JuMP"
   ]
  },
  {
   "cell_type": "markdown",
   "id": "d2dc7cbf",
   "metadata": {},
   "source": [
    "#  Lets Go!"
   ]
  },
  {
   "cell_type": "code",
   "execution_count": 4,
   "id": "d82f3079",
   "metadata": {
    "scrolled": true
   },
   "outputs": [
    {
     "data": {
      "text/plain": [
       "loading_model (generic function with 1 method)"
      ]
     },
     "execution_count": 4,
     "metadata": {},
     "output_type": "execute_result"
    }
   ],
   "source": [
    "# Here we first define a function in which model will prepare\n",
    "\n",
    "function loading_model(model_name)\n",
    "    \n",
    "    model_file_name = string(model_name,\".json\")\n",
    "    download_link = string(\"http://bigg.ucsd.edu/static/models/\", model_file_name)\n",
    "    \n",
    "    println(\"MODEL-NAME: \", model_name)\n",
    "\n",
    "    !isfile(model_file_name) && download(download_link, model_file_name)\n",
    "    myModel = load_model(StandardModel, model_file_name) # we specifically want to load a StandardModel from the model file    \n",
    "    return myModel\n",
    "    \n",
    "end"
   ]
  },
  {
   "cell_type": "code",
   "execution_count": 5,
   "id": "76b74a27",
   "metadata": {
    "scrolled": true
   },
   "outputs": [
    {
     "name": "stdout",
     "output_type": "stream",
     "text": [
      "MODEL-NAME: e_coli_core\n"
     ]
    },
    {
     "data": {
      "text/plain": [
       "Metabolic model of type StandardModel\n",
       "sparse([9, 51, 55, 64, 65, 34, 44, 59, 66, 64  …  20, 22, 23, 25, 16, 17, 34, 44, 57, 59], [1, 1, 1, 1, 1, 2, 2, 2, 2, 3  …  93, 93, 94, 94, 95, 95, 95, 95, 95, 95], [1.0, 1.0, -1.0, -1.0, 1.0, -1.0, 1.0, -1.0, 1.0, 1.0  …  1.0, -1.0, 1.0, -1.0, -1.0, 1.0, -1.0, 1.0, 1.0, -1.0], 72, 95)\n",
       "Number of reactions: 95\n",
       "Number of metabolites: 72\n"
      ]
     },
     "execution_count": 5,
     "metadata": {},
     "output_type": "execute_result"
    }
   ],
   "source": [
    "# For e-coli-core\n",
    "e_coli_main_model = loading_model(\"e_coli_core\")"
   ]
  },
  {
   "cell_type": "markdown",
   "id": "0a27b05b",
   "metadata": {},
   "source": [
    "# Homogenization"
   ]
  },
  {
   "cell_type": "code",
   "execution_count": 6,
   "id": "81b84715",
   "metadata": {
    "scrolled": true
   },
   "outputs": [],
   "source": [
    "# Homogenization\n",
    "\n",
    "M = 10 ^ 6\n",
    "\n",
    "for i in 1:n_reactions(e_coli_main_model)\n",
    "    reaction_id = reactions(e_coli_main_model)[i]\n",
    "    if(e_coli_main_model.reactions[reaction_id].lb >= 0)\n",
    "        e_coli_main_model.reactions[reaction_id].lb = 0\n",
    "        e_coli_main_model.reactions[reaction_id].ub = M \n",
    "    else\n",
    "        e_coli_main_model.reactions[reaction_id].lb = -M\n",
    "        e_coli_main_model.reactions[reaction_id].ub = M\n",
    "    end\n",
    "end"
   ]
  },
  {
   "cell_type": "markdown",
   "id": "c424deb6",
   "metadata": {},
   "source": [
    "# Question1-Part1-Single-Reaction-Deletion"
   ]
  },
  {
   "cell_type": "code",
   "execution_count": 7,
   "id": "b578a64e",
   "metadata": {
    "scrolled": true
   },
   "outputs": [
    {
     "data": {
      "text/plain": [
       "single_deletion (generic function with 1 method)"
      ]
     },
     "execution_count": 7,
     "metadata": {},
     "output_type": "execute_result"
    }
   ],
   "source": [
    "# The main method for finding essential reactions without using cobrexa modifications\n",
    "\n",
    "function single_deletion(model)\n",
    "    \n",
    "#     essential_reactions = Dict()\n",
    "    essential_reactions = []\n",
    "    e_coli_biomass = 0.8739 # From Cobrexa\n",
    "    first_FBA_dict = flux_balance_analysis_dict(model, GLPK.Optimizer)\n",
    "    f = 0.01\n",
    "    \n",
    "    for i in 1:n_reactions(model)\n",
    "        reaction_id = reactions(model)[i]\n",
    "        lb = model.reactions[reaction_id].lb\n",
    "        ub = model.reactions[reaction_id].ub\n",
    "        model.reactions[reaction_id].lb = 0\n",
    "        model.reactions[reaction_id].ub = 0\n",
    "        temp_dict = flux_balance_analysis_dict(model, GLPK.Optimizer)\n",
    "        a = keys(flux_summary(temp_dict).biomass_fluxes)\n",
    "        b = []\n",
    "        for key in a\n",
    "            append!(b,(flux_summary(temp_dict).biomass_fluxes)[key])\n",
    "        end\n",
    "        temp_v_biomass = b[1]\n",
    "        if  temp_v_biomass <= (f * e_coli_biomass)\n",
    "#             essential_reactions[i] = reaction_id\n",
    "               append!(essential_reactions,[reaction_id])\n",
    "        end\n",
    "        model.reactions[reaction_id].lb = lb\n",
    "        model.reactions[reaction_id].ub = ub\n",
    "    end \n",
    "    \n",
    "    return essential_reactions\n",
    "end"
   ]
  },
  {
   "cell_type": "code",
   "execution_count": 9,
   "id": "a7a7f388",
   "metadata": {
    "scrolled": true
   },
   "outputs": [
    {
     "data": {
      "text/plain": [
       "single_deletion (generic function with 1 method)"
      ]
     },
     "execution_count": 9,
     "metadata": {},
     "output_type": "execute_result"
    }
   ],
   "source": [
    "# The main method for finding essential reactions - using cobrexa modifications\n",
    "\n",
    "function single_deletion(model)\n",
    "    \n",
    "    essential_reactions = Dict()\n",
    "    first_FBA_dict = flux_balance_analysis_dict(model, GLPK.Optimizer)\n",
    "    e_coli_biomass = first_FBA_dict[\"BIOMASS_Ecoli_core_w_GAM\"]\n",
    "    f = 0.01\n",
    "    \n",
    "    for i in 1:n_reactions(model)\n",
    "        reaction_id = reactions(model)[i]\n",
    "        restricted_flux = flux_balance_analysis_dict(\n",
    "            model,\n",
    "            GLPK.Optimizer,\n",
    "            modifications = [change_constraint(reaction_id, lb = 0, ub = 0.0)],\n",
    "        );\n",
    "        temp_v_biomass = restricted_flux[\"BIOMASS_Ecoli_core_w_GAM\"]\n",
    "        if  temp_v_biomass <= (f * e_coli_biomass)\n",
    "            essential_reactions[i] = reaction_id\n",
    "        end\n",
    "    end \n",
    "    \n",
    "    return essential_reactions\n",
    "end"
   ]
  },
  {
   "cell_type": "code",
   "execution_count": 8,
   "id": "40f7ab94",
   "metadata": {
    "scrolled": true
   },
   "outputs": [
    {
     "data": {
      "text/plain": [
       "18-element Vector{Any}:\n",
       " \"PGK\"\n",
       " \"PGM\"\n",
       " \"PIt2r\"\n",
       " \"ACONTa\"\n",
       " \"ACONTb\"\n",
       " \"BIOMASS_Ecoli_core_w_GAM\"\n",
       " \"CS\"\n",
       " \"RPI\"\n",
       " \"ENO\"\n",
       " \"EX_glc__D_e\"\n",
       " \"EX_h_e\"\n",
       " \"EX_nh4_e\"\n",
       " \"EX_pi_e\"\n",
       " \"GAPD\"\n",
       " \"GLCpts\"\n",
       " \"GLNS\"\n",
       " \"ICDHyr\"\n",
       " \"NH4t\""
      ]
     },
     "execution_count": 8,
     "metadata": {},
     "output_type": "execute_result"
    }
   ],
   "source": [
    "single = single_deletion(e_coli_main_model)"
   ]
  },
  {
   "cell_type": "markdown",
   "id": "108a3ece",
   "metadata": {},
   "source": [
    "# Question1-Part2-Double-Reaction-Deletion"
   ]
  },
  {
   "cell_type": "code",
   "execution_count": 9,
   "id": "0b34fcbe",
   "metadata": {
    "scrolled": true
   },
   "outputs": [
    {
     "data": {
      "text/plain": [
       "double_deletion (generic function with 1 method)"
      ]
     },
     "execution_count": 9,
     "metadata": {},
     "output_type": "execute_result"
    }
   ],
   "source": [
    "# The main method for finding double essential reactions without using cobrexa modifications\n",
    "\n",
    "function double_deletion(model,single)\n",
    "    \n",
    "    single_values = values(single)\n",
    "    essential_reactions = []\n",
    "#     essential_reactions = Dict()\n",
    "    e_coli_biomass = 0.8739 # From Cobrexa\n",
    "    first_FBA_dict = flux_balance_analysis_dict(model, GLPK.Optimizer)\n",
    "    f = 0.01\n",
    "    \n",
    "    for i in 1:n_reactions(model)\n",
    "        for j in i+1:n_reactions(model)\n",
    "            reaction_id_i = reactions(model)[i]\n",
    "            reaction_id_j = reactions(model)[j]\n",
    "            \n",
    "            lb_i = model.reactions[reaction_id_i].lb\n",
    "            ub_i = model.reactions[reaction_id_i].ub\n",
    "            lb_j = model.reactions[reaction_id_j].lb\n",
    "            ub_j = model.reactions[reaction_id_j].ub\n",
    "            \n",
    "            model.reactions[reaction_id_i].lb = 0\n",
    "            model.reactions[reaction_id_i].ub = 0\n",
    "            model.reactions[reaction_id_j].lb = 0\n",
    "            model.reactions[reaction_id_j].ub = 0\n",
    "            \n",
    "            temp_dict = flux_balance_analysis_dict(model, GLPK.Optimizer)\n",
    "            a = keys(flux_summary(temp_dict).biomass_fluxes)\n",
    "            b = []\n",
    "            for key in a\n",
    "                append!(b,(flux_summary(temp_dict).biomass_fluxes)[key])\n",
    "            end\n",
    "            temp_v_biomass = b[1]\n",
    "            if  (temp_v_biomass <= (f * e_coli_biomass)) & (reaction_id_i ∉ single_values) & (reaction_id_j ∉ single_values)\n",
    "#                 essential_reactions[reaction_id_i] = reaction_id_j\n",
    "                append!(essential_reactions, [(reaction_id_i,reaction_id_j)])\n",
    "            end\n",
    "            model.reactions[reaction_id_i].lb = lb_i\n",
    "            model.reactions[reaction_id_i].ub = ub_i\n",
    "            model.reactions[reaction_id_j].lb = lb_j\n",
    "            model.reactions[reaction_id_j].ub = ub_j\n",
    "        end\n",
    "    end \n",
    "    \n",
    "    return essential_reactions\n",
    "end"
   ]
  },
  {
   "cell_type": "code",
   "execution_count": 10,
   "id": "2af202f5",
   "metadata": {
    "scrolled": false
   },
   "outputs": [
    {
     "data": {
      "text/plain": [
       "111-element Vector{Any}:\n",
       " (\"PFK\", \"PGI\")\n",
       " (\"PFK\", \"PGL\")\n",
       " (\"PFK\", \"CO2t\")\n",
       " (\"PFK\", \"RPE\")\n",
       " (\"PFK\", \"CYTBD\")\n",
       " (\"PFK\", \"TALA\")\n",
       " (\"PFK\", \"TKT1\")\n",
       " (\"PFK\", \"TKT2\")\n",
       " (\"PFK\", \"EX_co2_e\")\n",
       " (\"PFK\", \"EX_h2o_e\")\n",
       " (\"PFK\", \"EX_o2_e\")\n",
       " (\"PFK\", \"G6PDH2r\")\n",
       " (\"PFK\", \"GND\")\n",
       " ⋮\n",
       " (\"EX_h2o_e\", \"FORt\")\n",
       " (\"EX_o2_e\", \"FBA\")\n",
       " (\"FBA\", \"G6PDH2r\")\n",
       " (\"FBA\", \"GND\")\n",
       " (\"FBA\", \"H2Ot\")\n",
       " (\"FBA\", \"NADH16\")\n",
       " (\"FBA\", \"NADTRHD\")\n",
       " (\"FBA\", \"O2t\")\n",
       " (\"FORt\", \"H2Ot\")\n",
       " (\"FORt\", \"NADH16\")\n",
       " (\"FORt\", \"PDH\")\n",
       " (\"GLUDy\", \"GLUSy\")"
      ]
     },
     "execution_count": 10,
     "metadata": {},
     "output_type": "execute_result"
    }
   ],
   "source": [
    "double_deletion(e_coli_main_model,single)"
   ]
  },
  {
   "cell_type": "markdown",
   "id": "2a04fa04",
   "metadata": {},
   "source": [
    "# Question2"
   ]
  },
  {
   "cell_type": "code",
   "execution_count": 11,
   "id": "c077c3d6",
   "metadata": {},
   "outputs": [],
   "source": [
    "# Blocked reactions; from previous HW\n",
    "blocked_reactions = [\"EX_fum_e\",\"EX_fru_e\",\"FRUpts2\",\"EX_mal__L_e\",\"FUMt2_2\",\"MALt2_2\",\"GLNabc\",\"EX_gln__L_e\"];\n",
    "\n",
    "# Reactions for which we want to find coupling condition\n",
    "Q_reactions = [\"ACONTb\",\"GAPD\",\"CS\",\"PGK\",\"ENO\",\"GLCpts\",\"PGM\",\"EX_glc__D_e\",\"BIOMASS_Ecoli_core_w_GAM\",\"ACONTa\"];"
   ]
  },
  {
   "cell_type": "code",
   "execution_count": 12,
   "id": "918ba264",
   "metadata": {},
   "outputs": [
    {
     "data": {
      "text/plain": [
       "remove_blocked (generic function with 1 method)"
      ]
     },
     "execution_count": 12,
     "metadata": {},
     "output_type": "execute_result"
    }
   ],
   "source": [
    "# Removing blocked reactions\n",
    "function remove_blocked(model, blocked_reactions)\n",
    "    for reaction in blocked_reactions\n",
    "        remove_reaction!(model, reaction)\n",
    "    end\n",
    "    return model\n",
    "end"
   ]
  },
  {
   "cell_type": "code",
   "execution_count": 13,
   "id": "dd393b75",
   "metadata": {},
   "outputs": [
    {
     "data": {
      "text/plain": [
       "Metabolic model of type StandardModel\n",
       "sparse([9, 51, 55, 64, 65, 34, 44, 59, 66, 64  …  20, 22, 23, 25, 16, 17, 34, 44, 57, 59], [1, 1, 1, 1, 1, 2, 2, 2, 2, 3  …  85, 85, 86, 86, 87, 87, 87, 87, 87, 87], [1.0, 1.0, -1.0, -1.0, 1.0, -1.0, 1.0, -1.0, 1.0, 1.0  …  1.0, -1.0, 1.0, -1.0, -1.0, 1.0, -1.0, 1.0, 1.0, -1.0], 72, 87)\n",
       "Number of reactions: 87\n",
       "Number of metabolites: 72\n"
      ]
     },
     "execution_count": 13,
     "metadata": {},
     "output_type": "execute_result"
    }
   ],
   "source": [
    "revised_model = remove_blocked(e_coli_main_model, blocked_reactions)"
   ]
  },
  {
   "cell_type": "code",
   "execution_count": 14,
   "id": "0e57ba1d",
   "metadata": {},
   "outputs": [
    {
     "data": {
      "text/plain": [
       "find_blocks (generic function with 1 method)"
      ]
     },
     "execution_count": 14,
     "metadata": {},
     "output_type": "execute_result"
    }
   ],
   "source": [
    "# finding block reactions\n",
    "# Defining the main method\n",
    "function find_blocks(model)\n",
    "    \n",
    "    n = n_reactions(model)\n",
    "    S = stoichiometry(model)\n",
    "    \n",
    "    irreversible_reactions = Dict()\n",
    "    reversible_reactions = Dict()\n",
    "    Keys = keys(model.reactions)\n",
    "    index = 1  # Fucking Index\n",
    "    for key in Keys\n",
    "        reaction_id = key\n",
    "        if(model.reactions[reaction_id].lb >= 0)\n",
    "            irreversible_reactions[index] = reaction_id\n",
    "        else\n",
    "            reversible_reactions[index] = reaction_id\n",
    "        end\n",
    "        index = index + 1\n",
    "    end\n",
    "    \n",
    "    \n",
    "    lb = []\n",
    "    ub = []\n",
    "    for i in 1:n\n",
    "        reaction_id = reactions(model)[i]\n",
    "        append!(lb, model.reactions[reaction_id].lb)\n",
    "        append!(ub, model.reactions[reaction_id].ub)  \n",
    "    end\n",
    "    \n",
    "    tolerance = 10^(-8)\n",
    "    \n",
    "    blocked_reactions = []\n",
    "    checker = Dict()\n",
    "\n",
    "    re = 0\n",
    "    irre = 0\n",
    "    # For ire : ni\n",
    "    for i in keys(irreversible_reactions)\n",
    "\n",
    "        # Define the Model\n",
    "        solver = Model(GLPK.Optimizer)\n",
    "\n",
    "        # Create Variables\n",
    "        @variable(solver,lb[i] <= v[i = 1:n] <= ub[i])\n",
    "\n",
    "        # Specify Constraints\n",
    "        @constraint(solver, (S)*v .== 0)\n",
    "        @constraint(solver, v[i] <= 1)\n",
    "        @objective(solver,Max,v[i])\n",
    "\n",
    "        # Solving/Optimize\n",
    "        optimize!(solver)\n",
    "\n",
    "        if (-tolerance <= objective_value(solver) <= tolerance)\n",
    "            append!(blocked_reactions,[irreversible_reactions[i]])\n",
    "            irre += 1\n",
    "        end\n",
    "    end\n",
    "\n",
    "    # For re : 2 * nr\n",
    "    for i in keys(reversible_reactions)\n",
    "\n",
    "        # Define the Model\n",
    "        solver = Model(GLPK.Optimizer)\n",
    "\n",
    "        # Create Variables\n",
    "        @variable(solver,lb[i] <= v[i = 1:n] <= ub[i])\n",
    "\n",
    "        # Specify Constraints\n",
    "        @constraint(solver, (S)*v .== 0)    \n",
    "        @constraint(solver, v[i] <= 1)\n",
    "        @objective(solver,Max,v[i])\n",
    "\n",
    "        # Solving/Optimize\n",
    "        optimize!(solver)\n",
    "\n",
    "        if (-tolerance <= objective_value(solver) <= tolerance)\n",
    "            checker[i] = reversible_reactions[i]\n",
    "        end\n",
    "    end\n",
    "\n",
    "    for i in keys(reversible_reactions)\n",
    "\n",
    "        # Define the Model\n",
    "        solver = Model(GLPK.Optimizer)\n",
    "\n",
    "        # Create Variables\n",
    "        @variable(solver,lb[i] <= v[i = 1:n] <= ub[i])\n",
    "\n",
    "        # Specify Constraints\n",
    "        @constraint(solver, (S)*v .== 0)    \n",
    "        @constraint(solver, v[i] >= -1)\n",
    "        @objective(solver,Min,v[i])\n",
    "\n",
    "        # Solving/Optimize\n",
    "        optimize!(solver)\n",
    "\n",
    "        if (-tolerance <= objective_value(solver) <= tolerance) && reversible_reactions[i] in values(checker)\n",
    "            append!(blocked_reactions,[reversible_reactions[i]])\n",
    "            re += 1\n",
    "        end\n",
    "    end\n",
    "    return blocked_reactions\n",
    "end    "
   ]
  },
  {
   "cell_type": "code",
   "execution_count": 17,
   "id": "989b7176",
   "metadata": {},
   "outputs": [
    {
     "data": {
      "text/plain": [
       "coupling (generic function with 1 method)"
      ]
     },
     "execution_count": 17,
     "metadata": {},
     "output_type": "execute_result"
    }
   ],
   "source": [
    "# Main fucntion: using FBA to find coupling relations\n",
    "\n",
    "function coupling(model,Q_reactions)\n",
    "    n_reactions = length(Q_reactions)\n",
    "    matrix = Matrix{Float64}(undef,n_reactions,n_reactions)   \n",
    "    \n",
    "    # Matrix notation \n",
    "    # i_j : 3  (v_j = 0 => v_i = 0)\n",
    "    # partially_coupled : 2\n",
    "    # fully_coupled : 1\n",
    "    # un_coupled : 0\n",
    "    \n",
    "    for i in 1:n_reactions\n",
    "        for j in i:n_reactions \n",
    "            \n",
    "            reaction_id_i = Q_reactions[i]\n",
    "            reaction_id_j = Q_reactions[j]\n",
    "            \n",
    "            lb_i = model.reactions[reaction_id_i].lb\n",
    "            ub_i = model.reactions[reaction_id_i].ub\n",
    "            model.reactions[reaction_id_i].lb = 0\n",
    "            model.reactions[reaction_id_i].ub = 0\n",
    "            blocks_i = find_blocks(model);;\n",
    "            model.reactions[reaction_id_i].lb = lb_i\n",
    "            model.reactions[reaction_id_i].ub = ub_i\n",
    "            \n",
    "            lb_j = model.reactions[reaction_id_j].lb\n",
    "            ub_j = model.reactions[reaction_id_j].ub\n",
    "            model.reactions[reaction_id_j].lb = 0\n",
    "            model.reactions[reaction_id_j].ub = 0\n",
    "            blocks_j = find_blocks(model);;\n",
    "            model.reactions[reaction_id_j].lb = lb_j\n",
    "            model.reactions[reaction_id_j].ub = ub_j\n",
    "            if i == j\n",
    "                matrix[i,j] = 1\n",
    "            else   \n",
    "                if reaction_id_i in blocks_j\n",
    "                    matrix[i,j] = 3\n",
    "                end\n",
    "\n",
    "                if reaction_id_j in blocks_i\n",
    "                    matrix[j,i] = 3\n",
    "                end\n",
    "                \n",
    "                if (reaction_id_i in blocks_j) & (reaction_id_j in blocks_i)\n",
    "                    matrix[i,j] = 2\n",
    "                    matrix[j,i] = 2\n",
    "                end\n",
    "\n",
    "                if (matrix[i,j] == 2) & (matrix[j,i] == 2)\n",
    "                    temp_flux = flux_balance_analysis_dict(model, GLPK.Optimizer)\n",
    "                    flux_i = temp_flux[reaction_id_i]\n",
    "                    flux_j = temp_flux[reaction_id_j]\n",
    "                    if ((flux_i % flux_j) == 0) | ((flux_j % flux_i) == 0)\n",
    "                        matrix[i,j] = 1\n",
    "                        matrix[j,i] = 1\n",
    "                    end\n",
    "                end\n",
    "                \n",
    "                if !(matrix[i,j] in [1,2,3])\n",
    "                    matrix[i,j] = 0\n",
    "                end\n",
    "                if !(matrix[j,i] in [1,2,3])\n",
    "                    matrix[j,i] = 0\n",
    "                end\n",
    "                \n",
    "            end\n",
    "        end\n",
    "    end\n",
    "    return matrix\n",
    "end"
   ]
  },
  {
   "cell_type": "code",
   "execution_count": 18,
   "id": "f51fb919",
   "metadata": {
    "scrolled": true
   },
   "outputs": [
    {
     "data": {
      "text/plain": [
       "10×10 Matrix{Float64}:\n",
       " 1.0  3.0  2.0  3.0  3.0  3.0  3.0  3.0  0.0  2.0\n",
       " 0.0  1.0  0.0  2.0  2.0  3.0  2.0  3.0  0.0  0.0\n",
       " 2.0  3.0  1.0  3.0  3.0  3.0  3.0  3.0  0.0  2.0\n",
       " 0.0  2.0  0.0  1.0  2.0  3.0  2.0  3.0  0.0  0.0\n",
       " 0.0  2.0  0.0  2.0  1.0  3.0  1.0  3.0  0.0  0.0\n",
       " 0.0  0.0  0.0  0.0  0.0  1.0  0.0  1.0  0.0  0.0\n",
       " 0.0  2.0  0.0  2.0  1.0  3.0  1.0  3.0  0.0  0.0\n",
       " 0.0  0.0  0.0  0.0  0.0  1.0  0.0  1.0  0.0  0.0\n",
       " 3.0  3.0  3.0  3.0  3.0  3.0  3.0  3.0  1.0  3.0\n",
       " 2.0  3.0  2.0  3.0  3.0  3.0  3.0  3.0  0.0  1.0"
      ]
     },
     "execution_count": 18,
     "metadata": {},
     "output_type": "execute_result"
    }
   ],
   "source": [
    "coupling(revised_model, Q_reactions)"
   ]
  }
 ],
 "metadata": {
  "kernelspec": {
   "display_name": "Julia 1.8.3",
   "language": "julia",
   "name": "julia-1.8"
  },
  "language_info": {
   "file_extension": ".jl",
   "mimetype": "application/julia",
   "name": "julia",
   "version": "1.8.3"
  }
 },
 "nbformat": 4,
 "nbformat_minor": 5
}
